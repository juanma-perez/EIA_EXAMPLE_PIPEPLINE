{
  "cells": [
    {
      "cell_type": "markdown",
      "metadata": {
        "id": "608GM4xnwpZ_"
      },
      "source": [
        "Instalar liberias adicionales al entorno"
      ]
    },
    {
      "cell_type": "code",
      "execution_count": null,
      "metadata": {
        "colab": {
          "base_uri": "https://localhost:8080/"
        },
        "id": "kLVRgaftF6PG",
        "outputId": "9f16d0cb-0894-4fb0-aa0a-c2c596019c30"
      },
      "outputs": [
        {
          "name": "stdout",
          "output_type": "stream",
          "text": [
            "Requirement already satisfied: python-dotenv in /usr/local/lib/python3.11/dist-packages (1.0.1)\n"
          ]
        }
      ],
      "source": [
        "# Si estás en Databricks o un entorno donde ya tienes Spark y dotenv, puedes omitir esta celda\n",
        "#!pip install python-dotenv"
      ]
    },
    {
      "cell_type": "markdown",
      "metadata": {
        "id": "s7hcMrmzw4HC"
      },
      "source": [
        "Llamado de librerias necesarias"
      ]
    },
    {
      "cell_type": "code",
      "execution_count": 2,
      "metadata": {
        "id": "MVY5G1hOK6Kn"
      },
      "outputs": [],
      "source": [
        "from pyspark.sql import SparkSession, DataFrame\n",
        "from eia_api_client import EIAApiClient\n",
        "import config\n",
        "from dotenv import load_dotenv\n",
        "import os"
      ]
    },
    {
      "cell_type": "markdown",
      "metadata": {
        "id": "3gAKK_VTxGO6"
      },
      "source": [
        "Carga de variables de entorno"
      ]
    },
    {
      "cell_type": "code",
      "execution_count": 3,
      "metadata": {
        "id": "o2oVg4II7_Kd"
      },
      "outputs": [],
      "source": [
        "# Cargar las variables de entorno\n",
        "load_dotenv()\n",
        "api_key = os.getenv('API_KEY')\n",
        "\n",
        "if not api_key:\n",
        "    raise Exception(\"API_KEY no encontrada. Revisa el archivo .env\")"
      ]
    },
    {
      "cell_type": "markdown",
      "metadata": {
        "id": "cyyZHQHyxXos"
      },
      "source": [
        "Crear sesión de spark"
      ]
    },
    {
      "cell_type": "code",
      "execution_count": 4,
      "metadata": {
        "id": "5GVjLmc4GPRx"
      },
      "outputs": [],
      "source": [
        "spark = SparkSession.builder.appName(\"PruebaTecnica\").getOrCreate()"
      ]
    },
    {
      "cell_type": "markdown",
      "metadata": {
        "id": "Rio-sIq8xeLw"
      },
      "source": [
        "Llamado al API y carga de la información"
      ]
    },
    {
      "cell_type": "code",
      "execution_count": 5,
      "metadata": {
        "colab": {
          "base_uri": "https://localhost:8080/"
        },
        "id": "CKmygwW0GTDg",
        "outputId": "963ba85a-83f4-4f2a-be50-1d9b333c7101"
      },
      "outputs": [
        {
          "name": "stdout",
          "output_type": "stream",
          "text": [
            "root\n",
            " |-- area-name: string (nullable = true)\n",
            " |-- duoarea: string (nullable = true)\n",
            " |-- period: string (nullable = true)\n",
            " |-- process: string (nullable = true)\n",
            " |-- process-name: string (nullable = true)\n",
            " |-- product: string (nullable = true)\n",
            " |-- product-name: string (nullable = true)\n",
            " |-- series: string (nullable = true)\n",
            " |-- series-description: string (nullable = true)\n",
            " |-- units: string (nullable = true)\n",
            " |-- value: string (nullable = true)\n",
            "\n"
          ]
        }
      ],
      "source": [
        "client = EIAApiClient(\n",
        "    api_key=api_key,\n",
        "    spark_session=spark,\n",
        "    base_url=config.BASE_URL\n",
        ")\n",
        "\n",
        "try:\n",
        "    df = client.fetch_data_as_spark_df(\n",
        "        start_year=config.START_YEAR,\n",
        "        end_year=config.END_YEAR,\n",
        "        frequency=config.FREQUENCY,\n",
        "        length=config.LENGTH\n",
        "    )\n",
        "    df.printSchema()\n",
        "except Exception as e:\n",
        "    print(e)"
      ]
    },
    {
      "cell_type": "markdown",
      "metadata": {
        "id": "0co0rQyMyCdU"
      },
      "source": [
        "Generar archivo"
      ]
    },
    {
      "cell_type": "code",
      "execution_count": 6,
      "metadata": {
        "colab": {
          "base_uri": "https://localhost:8080/"
        },
        "id": "I7Vqq5Tcq7qw",
        "outputId": "5a4973f8-dbfc-4c02-a073-7d56900acd40"
      },
      "outputs": [
        {
          "name": "stdout",
          "output_type": "stream",
          "text": [
            "✅ Archivo guardado exitosamente en: DL/crude_reserves_prod.csv\n"
          ]
        }
      ],
      "source": [
        "# Definir la ruta completa de forma más clara y segura\n",
        "export_path = os.path.join(config.FOLDER_DL, config.FILE_DL)\n",
        "\n",
        "try:\n",
        "    # Validar que el DataFrame no esté vacío antes de guardar\n",
        "    if not df.rdd.isEmpty():\n",
        "        df.write.mode('overwrite').option(\"header\", \"true\").csv(export_path)\n",
        "        print(f\"✅ Archivo guardado exitosamente en: {export_path}\")\n",
        "    else:\n",
        "        print(\"⚠️ El DataFrame está vacío. No se generó el archivo.\")\n",
        "except Exception as e:\n",
        "    print(f\"❌ Error al guardar el archivo: {e}\")"
      ]
    },
    {
      "cell_type": "markdown",
      "metadata": {
        "id": "HYcHec1nzyMY"
      },
      "source": [
        "Fin de la sesión"
      ]
    },
    {
      "cell_type": "code",
      "execution_count": 7,
      "metadata": {
        "id": "7pj02dYbzpL1"
      },
      "outputs": [],
      "source": [
        "spark.stop()"
      ]
    }
  ],
  "metadata": {
    "colab": {
      "provenance": []
    },
    "kernelspec": {
      "display_name": "Python 3",
      "name": "python3"
    },
    "language_info": {
      "name": "python"
    }
  },
  "nbformat": 4,
  "nbformat_minor": 0
}
