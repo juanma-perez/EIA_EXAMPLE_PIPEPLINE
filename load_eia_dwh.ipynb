{
  "nbformat": 4,
  "nbformat_minor": 0,
  "metadata": {
    "colab": {
      "provenance": []
    },
    "kernelspec": {
      "name": "python3",
      "display_name": "Python 3"
    },
    "language_info": {
      "name": "python"
    }
  },
  "cells": [
    {
      "cell_type": "markdown",
      "source": [
        "Llamado de librerias necesarias"
      ],
      "metadata": {
        "id": "D-QNE9A1SXsQ"
      }
    },
    {
      "cell_type": "code",
      "source": [
        "import os\n",
        "from pyspark.sql import SparkSession\n",
        "from pyspark.sql.functions import col, monotonically_increasing_id\n",
        "import config"
      ],
      "metadata": {
        "id": "YhJ4nSFn0JQ9"
      },
      "execution_count": 1,
      "outputs": []
    },
    {
      "cell_type": "markdown",
      "source": [
        "Crear sesión de spark"
      ],
      "metadata": {
        "id": "cZTgeftgSoDH"
      }
    },
    {
      "cell_type": "code",
      "source": [
        "spark = SparkSession.builder.appName(\"load_eia_dwh\").getOrCreate()"
      ],
      "metadata": {
        "id": "Ln6EJUyu0dVG"
      },
      "execution_count": 2,
      "outputs": []
    },
    {
      "cell_type": "markdown",
      "source": [
        "Carga del archivo del datalake"
      ],
      "metadata": {
        "id": "HLHj3HaHSsyB"
      }
    },
    {
      "cell_type": "code",
      "source": [
        "file_path = os.path.join(config.FOLDER_DL, config.FILE_DL)\n",
        "df = spark.read.csv(file_path, header=True, inferSchema=True)\n",
        "df.columns\n"
      ],
      "metadata": {
        "colab": {
          "base_uri": "https://localhost:8080/"
        },
        "id": "1Ob63MYR1DsN",
        "outputId": "3b68fbf8-f3ca-4b78-805f-6ebf9d35d1d3"
      },
      "execution_count": 3,
      "outputs": [
        {
          "output_type": "execute_result",
          "data": {
            "text/plain": [
              "['area-name',\n",
              " 'duoarea',\n",
              " 'period',\n",
              " 'process',\n",
              " 'process-name',\n",
              " 'product',\n",
              " 'product-name',\n",
              " 'series',\n",
              " 'series-description',\n",
              " 'units',\n",
              " 'value']"
            ]
          },
          "metadata": {},
          "execution_count": 3
        }
      ]
    },
    {
      "cell_type": "markdown",
      "source": [
        "Obteniendo relación con la dimensión de Area"
      ],
      "metadata": {
        "id": "YIw6eXkXTCWo"
      }
    },
    {
      "cell_type": "code",
      "source": [
        "path_dim_area = os.path.join(config.FOLDER_DWH, config.FILE_DIM_AREA)\n",
        "dim_area = (spark.read\n",
        "            .option(\"header\", \"true\")\n",
        "            .option(\"sep\", \";\")\n",
        "            .csv(path_dim_area)\n",
        "            .alias(\"area\"))\n",
        "\n",
        "df_joined = (df.alias(\"f\")\n",
        "             .join(dim_area, col(\"f.duoarea\") == col(\"area.DUO_AREA\"), \"left\")\n",
        "             .select(\"f.*\",col(\"area.ID\").alias(\"AREA_ID\")))\n",
        "\n",
        "df_joined.show(truncate=False)"
      ],
      "metadata": {
        "colab": {
          "base_uri": "https://localhost:8080/"
        },
        "id": "w_aDLM_3aGCR",
        "outputId": "9a339586-4af2-4319-ac0b-92e4306611f2"
      },
      "execution_count": 4,
      "outputs": [
        {
          "output_type": "stream",
          "name": "stdout",
          "text": [
            "+---------+-------+------+-------+------------------------------------------------+-------+------------+---------------+----------------------------------------------------------------------------------------------------------+-----+-----+-------+\n",
            "|area-name|duoarea|period|process|process-name                                    |product|product-name|series         |series-description                                                                                        |units|value|AREA_ID|\n",
            "+---------+-------+------+-------+------------------------------------------------+-------+------------+---------------+----------------------------------------------------------------------------------------------------------+-----+-----+-------+\n",
            "|NA       |RCASF  |2017  |R01    |Proved Reserves                                 |EPC0   |Crude Oil   |RCRR01RCASF_1  |California State Offshore Crude Oil Proved Reserves (Million Barrels)                                     |MMBBL|147  |9      |\n",
            "|USA-MI   |SMI    |2017  |R01    |Proved Reserves                                 |EPC0   |Crude Oil   |RCRR01SMI_1    |Michigan Crude Oil Proved Reserves (Million Barrels)                                                      |MMBBL|54   |23     |\n",
            "|NA       |R5F    |2017  |R01    |Proved Reserves                                 |EPC0   |Crude Oil   |RCRR01R5F_1    |California Federal Offshore Crude Oil Proved Reserves (Million Barrels)                                   |MMBBL|81   |8      |\n",
            "|USA-ND   |SND    |2017  |R01    |Proved Reserves                                 |EPC0   |Crude Oil   |RCRR01SND_1    |North Dakota Crude Oil Proved Reserves (Million Barrels)                                                  |MMBBL|5473 |30     |\n",
            "|USA-KY   |SKY    |2017  |R01    |Proved Reserves                                 |EPC0   |Crude Oil   |RCRR01SKY_1    |Kentucky Crude Oil Proved Reserves (Million Barrels)                                                      |MMBBL|8    |17     |\n",
            "|NA       |RNMWEST|2017  |R10    |Production from Reserves                        |EPC0   |Crude Oil   |RCRR10RNMWEST_1|New Mexico - West Crude Oil Estimated Production from Reserves (Million Barrels)                          |MMBBL|6    |29     |\n",
            "|NA       |RNMEAST|2017  |R10    |Production from Reserves                        |EPC0   |Crude Oil   |RCRR10RNMEAST_1|New Mexico - East Crude Oil Estimated Production from Reserves (Million Barrels)                          |MMBBL|154  |28     |\n",
            "|USA-MS   |SMS    |2017  |R10    |Production from Reserves                        |EPC0   |Crude Oil   |RCRR10SMS_1    |Mississippi Crude Oil Estimated Production from Reserves (Million Barrels)                                |MMBBL|17   |24     |\n",
            "|USA-LA   |SLA    |2017  |R10    |Production from Reserves                        |EPC0   |Crude Oil   |RCRR10SLA_1    |Louisiana Crude Oil Estimated Production from Reserves (Million Barrels)                                  |MMBBL|43   |18     |\n",
            "|COLORADO |SCO    |2017  |R10    |Production from Reserves                        |EPC0   |Crude Oil   |RCRR10SCO_1    |Colorado Crude Oil Estimated Production from Reserves (Million Barrels)                                   |MMBBL|126  |10     |\n",
            "|NA       |RLAN   |2017  |R10    |Production from Reserves                        |EPC0   |Crude Oil   |RCRR10RLAN_1   |Louisiana - North Crude Oil Estimated Production from Reserves (Million Barrels)                          |MMBBL|10   |19     |\n",
            "|NA       |R5F    |2017  |R10    |Production from Reserves                        |EPC0   |Crude Oil   |RCRR10R5F_1    |California Federal Offshore Crude Oil Estimated Production from Reserves (Million Barrels)                |MMBBL|6    |8      |\n",
            "|U.S.     |NUS    |2017  |R09    |Reserves New Reservoir Discoveries in Old Fields|EPC0   |Crude Oil   |RCRR09NUS_1    |U.S. Crude Oil New Reservoir Discoveries in Old Fields (Million Barrels)                                  |MMBBL|NULL |48     |\n",
            "|NA       |RCAJ   |2017  |R09    |Reserves New Reservoir Discoveries in Old Fields|EPC0   |Crude Oil   |RCRR09RCAJ_1   |California - San Joaquin Basin Onshore Crude Oil New Reservoir Discoveries in Old Fields (Million Barrels)|MMBBL|NULL |7      |\n",
            "|USA-AL   |SAL    |2017  |R09    |Reserves New Reservoir Discoveries in Old Fields|EPC0   |Crude Oil   |RCRR09SAL_1    |Alabama Crude Oil New Reservoir Discoveries in Old Fields (Million Barrels)                               |MMBBL|NULL |1      |\n",
            "|USA-ND   |SND    |2017  |R09    |Reserves New Reservoir Discoveries in Old Fields|EPC0   |Crude Oil   |RCRR09SND_1    |North Dakota Crude Oil New Reservoir Discoveries in Old Fields (Million Barrels)                          |MMBBL|NULL |30     |\n",
            "|USA-PA   |SPA    |2017  |R09    |Reserves New Reservoir Discoveries in Old Fields|EPC0   |Crude Oil   |RCRR09SPA_1    |Pennsylvania Crude Oil New Reservoir Discoveries in Old Fields (Million Barrels)                          |MMBBL|NULL |33     |\n",
            "|NA       |RTX05  |2017  |R09    |Reserves New Reservoir Discoveries in Old Fields|EPC0   |Crude Oil   |RCRR09RTX05_1  |Texas - RRC District 5 Crude Oil New Reservoir Discoveries in Old Fields (Million Barrels)                |MMBBL|NULL |40     |\n",
            "|NA       |RCAC   |2017  |R09    |Reserves New Reservoir Discoveries in Old Fields|EPC0   |Crude Oil   |RCRR09RCAC_1   |California - Coastal Region Onshore Crude Oil New Reservoir Discoveries in Old Fields (Million Barrels)   |MMBBL|NULL |5      |\n",
            "|NA       |RTX08A |2017  |R08    |Reserves New Field Discoveries                  |EPC0   |Crude Oil   |RCRR08RTX08A_1 |Texas - RRC District 8A Crude Oil Reserves New Field Discoveries (Million Barrels)                        |MMBBL|NULL |45     |\n",
            "+---------+-------+------+-------+------------------------------------------------+-------+------------+---------------+----------------------------------------------------------------------------------------------------------+-----+-----+-------+\n",
            "only showing top 20 rows\n",
            "\n"
          ]
        }
      ]
    },
    {
      "cell_type": "markdown",
      "source": [
        "cruce con la dimesión de procesos"
      ],
      "metadata": {
        "id": "f2ykRPL1TQrx"
      }
    },
    {
      "cell_type": "code",
      "source": [
        "path_dim_process = os.path.join(config.FOLDER_DWH, config.FILE_DIM_PROCESS)\n",
        "dim_process = (spark.read\n",
        "            .option(\"header\", \"true\")\n",
        "            .option(\"sep\", \";\")\n",
        "            .csv(path_dim_process)\n",
        "            .alias(\"process\"))\n",
        "\n",
        "df_joined = (df_joined.alias(\"f\")\n",
        "             .join(dim_process, col(\"f.process\") == col(\"process.PROCESS\"), \"left\")\n",
        "             .select(\"f.*\", col(\"process.ID\").alias(\"PROCESS_ID\")))\n",
        "\n",
        "df_joined.show(truncate=False)\n"
      ],
      "metadata": {
        "colab": {
          "base_uri": "https://localhost:8080/"
        },
        "id": "sFTAFEe6a7lh",
        "outputId": "18a0e562-67ba-4598-d89c-bd4f962dee1c"
      },
      "execution_count": 5,
      "outputs": [
        {
          "output_type": "stream",
          "name": "stdout",
          "text": [
            "+---------+-------+------+-------+------------------------------------------------+-------+------------+---------------+----------------------------------------------------------------------------------------------------------+-----+-----+-------+----------+\n",
            "|area-name|duoarea|period|process|process-name                                    |product|product-name|series         |series-description                                                                                        |units|value|AREA_ID|PROCESS_ID|\n",
            "+---------+-------+------+-------+------------------------------------------------+-------+------------+---------------+----------------------------------------------------------------------------------------------------------+-----+-----+-------+----------+\n",
            "|NA       |RCASF  |2017  |R01    |Proved Reserves                                 |EPC0   |Crude Oil   |RCRR01RCASF_1  |California State Offshore Crude Oil Proved Reserves (Million Barrels)                                     |MMBBL|147  |9      |10        |\n",
            "|USA-MI   |SMI    |2017  |R01    |Proved Reserves                                 |EPC0   |Crude Oil   |RCRR01SMI_1    |Michigan Crude Oil Proved Reserves (Million Barrels)                                                      |MMBBL|54   |23     |10        |\n",
            "|NA       |R5F    |2017  |R01    |Proved Reserves                                 |EPC0   |Crude Oil   |RCRR01R5F_1    |California Federal Offshore Crude Oil Proved Reserves (Million Barrels)                                   |MMBBL|81   |8      |10        |\n",
            "|USA-ND   |SND    |2017  |R01    |Proved Reserves                                 |EPC0   |Crude Oil   |RCRR01SND_1    |North Dakota Crude Oil Proved Reserves (Million Barrels)                                                  |MMBBL|5473 |30     |10        |\n",
            "|USA-KY   |SKY    |2017  |R01    |Proved Reserves                                 |EPC0   |Crude Oil   |RCRR01SKY_1    |Kentucky Crude Oil Proved Reserves (Million Barrels)                                                      |MMBBL|8    |17     |10        |\n",
            "|NA       |RNMWEST|2017  |R10    |Production from Reserves                        |EPC0   |Crude Oil   |RCRR10RNMWEST_1|New Mexico - West Crude Oil Estimated Production from Reserves (Million Barrels)                          |MMBBL|6    |29     |9         |\n",
            "|NA       |RNMEAST|2017  |R10    |Production from Reserves                        |EPC0   |Crude Oil   |RCRR10RNMEAST_1|New Mexico - East Crude Oil Estimated Production from Reserves (Million Barrels)                          |MMBBL|154  |28     |9         |\n",
            "|USA-MS   |SMS    |2017  |R10    |Production from Reserves                        |EPC0   |Crude Oil   |RCRR10SMS_1    |Mississippi Crude Oil Estimated Production from Reserves (Million Barrels)                                |MMBBL|17   |24     |9         |\n",
            "|USA-LA   |SLA    |2017  |R10    |Production from Reserves                        |EPC0   |Crude Oil   |RCRR10SLA_1    |Louisiana Crude Oil Estimated Production from Reserves (Million Barrels)                                  |MMBBL|43   |18     |9         |\n",
            "|COLORADO |SCO    |2017  |R10    |Production from Reserves                        |EPC0   |Crude Oil   |RCRR10SCO_1    |Colorado Crude Oil Estimated Production from Reserves (Million Barrels)                                   |MMBBL|126  |10     |9         |\n",
            "|NA       |RLAN   |2017  |R10    |Production from Reserves                        |EPC0   |Crude Oil   |RCRR10RLAN_1   |Louisiana - North Crude Oil Estimated Production from Reserves (Million Barrels)                          |MMBBL|10   |19     |9         |\n",
            "|NA       |R5F    |2017  |R10    |Production from Reserves                        |EPC0   |Crude Oil   |RCRR10R5F_1    |California Federal Offshore Crude Oil Estimated Production from Reserves (Million Barrels)                |MMBBL|6    |8      |9         |\n",
            "|U.S.     |NUS    |2017  |R09    |Reserves New Reservoir Discoveries in Old Fields|EPC0   |Crude Oil   |RCRR09NUS_1    |U.S. Crude Oil New Reservoir Discoveries in Old Fields (Million Barrels)                                  |MMBBL|NULL |48     |7         |\n",
            "|NA       |RCAJ   |2017  |R09    |Reserves New Reservoir Discoveries in Old Fields|EPC0   |Crude Oil   |RCRR09RCAJ_1   |California - San Joaquin Basin Onshore Crude Oil New Reservoir Discoveries in Old Fields (Million Barrels)|MMBBL|NULL |7      |7         |\n",
            "|USA-AL   |SAL    |2017  |R09    |Reserves New Reservoir Discoveries in Old Fields|EPC0   |Crude Oil   |RCRR09SAL_1    |Alabama Crude Oil New Reservoir Discoveries in Old Fields (Million Barrels)                               |MMBBL|NULL |1      |7         |\n",
            "|USA-ND   |SND    |2017  |R09    |Reserves New Reservoir Discoveries in Old Fields|EPC0   |Crude Oil   |RCRR09SND_1    |North Dakota Crude Oil New Reservoir Discoveries in Old Fields (Million Barrels)                          |MMBBL|NULL |30     |7         |\n",
            "|USA-PA   |SPA    |2017  |R09    |Reserves New Reservoir Discoveries in Old Fields|EPC0   |Crude Oil   |RCRR09SPA_1    |Pennsylvania Crude Oil New Reservoir Discoveries in Old Fields (Million Barrels)                          |MMBBL|NULL |33     |7         |\n",
            "|NA       |RTX05  |2017  |R09    |Reserves New Reservoir Discoveries in Old Fields|EPC0   |Crude Oil   |RCRR09RTX05_1  |Texas - RRC District 5 Crude Oil New Reservoir Discoveries in Old Fields (Million Barrels)                |MMBBL|NULL |40     |7         |\n",
            "|NA       |RCAC   |2017  |R09    |Reserves New Reservoir Discoveries in Old Fields|EPC0   |Crude Oil   |RCRR09RCAC_1   |California - Coastal Region Onshore Crude Oil New Reservoir Discoveries in Old Fields (Million Barrels)   |MMBBL|NULL |5      |7         |\n",
            "|NA       |RTX08A |2017  |R08    |Reserves New Field Discoveries                  |EPC0   |Crude Oil   |RCRR08RTX08A_1 |Texas - RRC District 8A Crude Oil Reserves New Field Discoveries (Million Barrels)                        |MMBBL|NULL |45     |8         |\n",
            "+---------+-------+------+-------+------------------------------------------------+-------+------------+---------------+----------------------------------------------------------------------------------------------------------+-----+-----+-------+----------+\n",
            "only showing top 20 rows\n",
            "\n"
          ]
        }
      ]
    },
    {
      "cell_type": "markdown",
      "source": [
        "Cruce con la dimensión de productos"
      ],
      "metadata": {
        "id": "tK1Iw2plTVk7"
      }
    },
    {
      "cell_type": "code",
      "source": [
        "path_dim_product = os.path.join(config.FOLDER_DWH, config.FILE_DIM_PRODUCT)\n",
        "dim_process = (spark.read\n",
        "            .option(\"header\", \"true\")\n",
        "            .option(\"sep\", \";\")\n",
        "            .csv(path_dim_product)\n",
        "            .alias(\"product\"))\n",
        "\n",
        "df_joined = (df_joined.alias(\"f\")\n",
        "             .join(dim_process, col(\"f.product\") == col(\"product.PRODUCT\"), \"left\")\n",
        "             .select(\"f.*\", col(\"product.ID\").alias(\"PRODUCT_ID\")))\n",
        "\n",
        "df_joined.show(truncate=False)"
      ],
      "metadata": {
        "colab": {
          "base_uri": "https://localhost:8080/"
        },
        "id": "FkAE6n3CgoC0",
        "outputId": "34496639-26df-4bd4-d655-28dc560d367e"
      },
      "execution_count": 6,
      "outputs": [
        {
          "output_type": "stream",
          "name": "stdout",
          "text": [
            "+---------+-------+------+-------+------------------------------------------------+-------+------------+---------------+----------------------------------------------------------------------------------------------------------+-----+-----+-------+----------+----------+\n",
            "|area-name|duoarea|period|process|process-name                                    |product|product-name|series         |series-description                                                                                        |units|value|AREA_ID|PROCESS_ID|PRODUCT_ID|\n",
            "+---------+-------+------+-------+------------------------------------------------+-------+------------+---------------+----------------------------------------------------------------------------------------------------------+-----+-----+-------+----------+----------+\n",
            "|NA       |RCASF  |2017  |R01    |Proved Reserves                                 |EPC0   |Crude Oil   |RCRR01RCASF_1  |California State Offshore Crude Oil Proved Reserves (Million Barrels)                                     |MMBBL|147  |9      |10        |1         |\n",
            "|USA-MI   |SMI    |2017  |R01    |Proved Reserves                                 |EPC0   |Crude Oil   |RCRR01SMI_1    |Michigan Crude Oil Proved Reserves (Million Barrels)                                                      |MMBBL|54   |23     |10        |1         |\n",
            "|NA       |R5F    |2017  |R01    |Proved Reserves                                 |EPC0   |Crude Oil   |RCRR01R5F_1    |California Federal Offshore Crude Oil Proved Reserves (Million Barrels)                                   |MMBBL|81   |8      |10        |1         |\n",
            "|USA-ND   |SND    |2017  |R01    |Proved Reserves                                 |EPC0   |Crude Oil   |RCRR01SND_1    |North Dakota Crude Oil Proved Reserves (Million Barrels)                                                  |MMBBL|5473 |30     |10        |1         |\n",
            "|USA-KY   |SKY    |2017  |R01    |Proved Reserves                                 |EPC0   |Crude Oil   |RCRR01SKY_1    |Kentucky Crude Oil Proved Reserves (Million Barrels)                                                      |MMBBL|8    |17     |10        |1         |\n",
            "|NA       |RNMWEST|2017  |R10    |Production from Reserves                        |EPC0   |Crude Oil   |RCRR10RNMWEST_1|New Mexico - West Crude Oil Estimated Production from Reserves (Million Barrels)                          |MMBBL|6    |29     |9         |1         |\n",
            "|NA       |RNMEAST|2017  |R10    |Production from Reserves                        |EPC0   |Crude Oil   |RCRR10RNMEAST_1|New Mexico - East Crude Oil Estimated Production from Reserves (Million Barrels)                          |MMBBL|154  |28     |9         |1         |\n",
            "|USA-MS   |SMS    |2017  |R10    |Production from Reserves                        |EPC0   |Crude Oil   |RCRR10SMS_1    |Mississippi Crude Oil Estimated Production from Reserves (Million Barrels)                                |MMBBL|17   |24     |9         |1         |\n",
            "|USA-LA   |SLA    |2017  |R10    |Production from Reserves                        |EPC0   |Crude Oil   |RCRR10SLA_1    |Louisiana Crude Oil Estimated Production from Reserves (Million Barrels)                                  |MMBBL|43   |18     |9         |1         |\n",
            "|COLORADO |SCO    |2017  |R10    |Production from Reserves                        |EPC0   |Crude Oil   |RCRR10SCO_1    |Colorado Crude Oil Estimated Production from Reserves (Million Barrels)                                   |MMBBL|126  |10     |9         |1         |\n",
            "|NA       |RLAN   |2017  |R10    |Production from Reserves                        |EPC0   |Crude Oil   |RCRR10RLAN_1   |Louisiana - North Crude Oil Estimated Production from Reserves (Million Barrels)                          |MMBBL|10   |19     |9         |1         |\n",
            "|NA       |R5F    |2017  |R10    |Production from Reserves                        |EPC0   |Crude Oil   |RCRR10R5F_1    |California Federal Offshore Crude Oil Estimated Production from Reserves (Million Barrels)                |MMBBL|6    |8      |9         |1         |\n",
            "|U.S.     |NUS    |2017  |R09    |Reserves New Reservoir Discoveries in Old Fields|EPC0   |Crude Oil   |RCRR09NUS_1    |U.S. Crude Oil New Reservoir Discoveries in Old Fields (Million Barrels)                                  |MMBBL|NULL |48     |7         |1         |\n",
            "|NA       |RCAJ   |2017  |R09    |Reserves New Reservoir Discoveries in Old Fields|EPC0   |Crude Oil   |RCRR09RCAJ_1   |California - San Joaquin Basin Onshore Crude Oil New Reservoir Discoveries in Old Fields (Million Barrels)|MMBBL|NULL |7      |7         |1         |\n",
            "|USA-AL   |SAL    |2017  |R09    |Reserves New Reservoir Discoveries in Old Fields|EPC0   |Crude Oil   |RCRR09SAL_1    |Alabama Crude Oil New Reservoir Discoveries in Old Fields (Million Barrels)                               |MMBBL|NULL |1      |7         |1         |\n",
            "|USA-ND   |SND    |2017  |R09    |Reserves New Reservoir Discoveries in Old Fields|EPC0   |Crude Oil   |RCRR09SND_1    |North Dakota Crude Oil New Reservoir Discoveries in Old Fields (Million Barrels)                          |MMBBL|NULL |30     |7         |1         |\n",
            "|USA-PA   |SPA    |2017  |R09    |Reserves New Reservoir Discoveries in Old Fields|EPC0   |Crude Oil   |RCRR09SPA_1    |Pennsylvania Crude Oil New Reservoir Discoveries in Old Fields (Million Barrels)                          |MMBBL|NULL |33     |7         |1         |\n",
            "|NA       |RTX05  |2017  |R09    |Reserves New Reservoir Discoveries in Old Fields|EPC0   |Crude Oil   |RCRR09RTX05_1  |Texas - RRC District 5 Crude Oil New Reservoir Discoveries in Old Fields (Million Barrels)                |MMBBL|NULL |40     |7         |1         |\n",
            "|NA       |RCAC   |2017  |R09    |Reserves New Reservoir Discoveries in Old Fields|EPC0   |Crude Oil   |RCRR09RCAC_1   |California - Coastal Region Onshore Crude Oil New Reservoir Discoveries in Old Fields (Million Barrels)   |MMBBL|NULL |5      |7         |1         |\n",
            "|NA       |RTX08A |2017  |R08    |Reserves New Field Discoveries                  |EPC0   |Crude Oil   |RCRR08RTX08A_1 |Texas - RRC District 8A Crude Oil Reserves New Field Discoveries (Million Barrels)                        |MMBBL|NULL |45     |8         |1         |\n",
            "+---------+-------+------+-------+------------------------------------------------+-------+------------+---------------+----------------------------------------------------------------------------------------------------------+-----+-----+-------+----------+----------+\n",
            "only showing top 20 rows\n",
            "\n"
          ]
        }
      ]
    },
    {
      "cell_type": "markdown",
      "source": [
        "Cruce con la dimensión de la serie de tiempo"
      ],
      "metadata": {
        "id": "J7c8hOlFTbE2"
      }
    },
    {
      "cell_type": "code",
      "source": [
        "path_dim_time = os.path.join(config.FOLDER_DWH, config.FILE_DIM_TIME)\n",
        "dim_time = (spark.read\n",
        "            .option(\"header\", \"true\")\n",
        "            .option(\"sep\", \";\")\n",
        "            .csv(path_dim_time)\n",
        "            .alias(\"y\"))\n",
        "\n",
        "df_joined = (df_joined.alias(\"f\")\n",
        "             .join(dim_time, col(\"f.period\") == col(\"y.YEAR\"), \"left\")\n",
        "             .select(\"f.*\", col(\"y.ID\").alias(\"TIME_ID\")))\n",
        "\n",
        "df_joined.show(truncate=False)"
      ],
      "metadata": {
        "colab": {
          "base_uri": "https://localhost:8080/"
        },
        "id": "JmANH4_ZeEac",
        "outputId": "0db267d6-6461-4c3f-d30d-86ae8f979c65"
      },
      "execution_count": 7,
      "outputs": [
        {
          "output_type": "stream",
          "name": "stdout",
          "text": [
            "+---------+-------+------+-------+------------------------------------------------+-------+------------+---------------+----------------------------------------------------------------------------------------------------------+-----+-----+-------+----------+----------+-------+\n",
            "|area-name|duoarea|period|process|process-name                                    |product|product-name|series         |series-description                                                                                        |units|value|AREA_ID|PROCESS_ID|PRODUCT_ID|TIME_ID|\n",
            "+---------+-------+------+-------+------------------------------------------------+-------+------------+---------------+----------------------------------------------------------------------------------------------------------+-----+-----+-------+----------+----------+-------+\n",
            "|NA       |RCASF  |2017  |R01    |Proved Reserves                                 |EPC0   |Crude Oil   |RCRR01RCASF_1  |California State Offshore Crude Oil Proved Reserves (Million Barrels)                                     |MMBBL|147  |9      |10        |1         |68     |\n",
            "|USA-MI   |SMI    |2017  |R01    |Proved Reserves                                 |EPC0   |Crude Oil   |RCRR01SMI_1    |Michigan Crude Oil Proved Reserves (Million Barrels)                                                      |MMBBL|54   |23     |10        |1         |68     |\n",
            "|NA       |R5F    |2017  |R01    |Proved Reserves                                 |EPC0   |Crude Oil   |RCRR01R5F_1    |California Federal Offshore Crude Oil Proved Reserves (Million Barrels)                                   |MMBBL|81   |8      |10        |1         |68     |\n",
            "|USA-ND   |SND    |2017  |R01    |Proved Reserves                                 |EPC0   |Crude Oil   |RCRR01SND_1    |North Dakota Crude Oil Proved Reserves (Million Barrels)                                                  |MMBBL|5473 |30     |10        |1         |68     |\n",
            "|USA-KY   |SKY    |2017  |R01    |Proved Reserves                                 |EPC0   |Crude Oil   |RCRR01SKY_1    |Kentucky Crude Oil Proved Reserves (Million Barrels)                                                      |MMBBL|8    |17     |10        |1         |68     |\n",
            "|NA       |RNMWEST|2017  |R10    |Production from Reserves                        |EPC0   |Crude Oil   |RCRR10RNMWEST_1|New Mexico - West Crude Oil Estimated Production from Reserves (Million Barrels)                          |MMBBL|6    |29     |9         |1         |68     |\n",
            "|NA       |RNMEAST|2017  |R10    |Production from Reserves                        |EPC0   |Crude Oil   |RCRR10RNMEAST_1|New Mexico - East Crude Oil Estimated Production from Reserves (Million Barrels)                          |MMBBL|154  |28     |9         |1         |68     |\n",
            "|USA-MS   |SMS    |2017  |R10    |Production from Reserves                        |EPC0   |Crude Oil   |RCRR10SMS_1    |Mississippi Crude Oil Estimated Production from Reserves (Million Barrels)                                |MMBBL|17   |24     |9         |1         |68     |\n",
            "|USA-LA   |SLA    |2017  |R10    |Production from Reserves                        |EPC0   |Crude Oil   |RCRR10SLA_1    |Louisiana Crude Oil Estimated Production from Reserves (Million Barrels)                                  |MMBBL|43   |18     |9         |1         |68     |\n",
            "|COLORADO |SCO    |2017  |R10    |Production from Reserves                        |EPC0   |Crude Oil   |RCRR10SCO_1    |Colorado Crude Oil Estimated Production from Reserves (Million Barrels)                                   |MMBBL|126  |10     |9         |1         |68     |\n",
            "|NA       |RLAN   |2017  |R10    |Production from Reserves                        |EPC0   |Crude Oil   |RCRR10RLAN_1   |Louisiana - North Crude Oil Estimated Production from Reserves (Million Barrels)                          |MMBBL|10   |19     |9         |1         |68     |\n",
            "|NA       |R5F    |2017  |R10    |Production from Reserves                        |EPC0   |Crude Oil   |RCRR10R5F_1    |California Federal Offshore Crude Oil Estimated Production from Reserves (Million Barrels)                |MMBBL|6    |8      |9         |1         |68     |\n",
            "|U.S.     |NUS    |2017  |R09    |Reserves New Reservoir Discoveries in Old Fields|EPC0   |Crude Oil   |RCRR09NUS_1    |U.S. Crude Oil New Reservoir Discoveries in Old Fields (Million Barrels)                                  |MMBBL|NULL |48     |7         |1         |68     |\n",
            "|NA       |RCAJ   |2017  |R09    |Reserves New Reservoir Discoveries in Old Fields|EPC0   |Crude Oil   |RCRR09RCAJ_1   |California - San Joaquin Basin Onshore Crude Oil New Reservoir Discoveries in Old Fields (Million Barrels)|MMBBL|NULL |7      |7         |1         |68     |\n",
            "|USA-AL   |SAL    |2017  |R09    |Reserves New Reservoir Discoveries in Old Fields|EPC0   |Crude Oil   |RCRR09SAL_1    |Alabama Crude Oil New Reservoir Discoveries in Old Fields (Million Barrels)                               |MMBBL|NULL |1      |7         |1         |68     |\n",
            "|USA-ND   |SND    |2017  |R09    |Reserves New Reservoir Discoveries in Old Fields|EPC0   |Crude Oil   |RCRR09SND_1    |North Dakota Crude Oil New Reservoir Discoveries in Old Fields (Million Barrels)                          |MMBBL|NULL |30     |7         |1         |68     |\n",
            "|USA-PA   |SPA    |2017  |R09    |Reserves New Reservoir Discoveries in Old Fields|EPC0   |Crude Oil   |RCRR09SPA_1    |Pennsylvania Crude Oil New Reservoir Discoveries in Old Fields (Million Barrels)                          |MMBBL|NULL |33     |7         |1         |68     |\n",
            "|NA       |RTX05  |2017  |R09    |Reserves New Reservoir Discoveries in Old Fields|EPC0   |Crude Oil   |RCRR09RTX05_1  |Texas - RRC District 5 Crude Oil New Reservoir Discoveries in Old Fields (Million Barrels)                |MMBBL|NULL |40     |7         |1         |68     |\n",
            "|NA       |RCAC   |2017  |R09    |Reserves New Reservoir Discoveries in Old Fields|EPC0   |Crude Oil   |RCRR09RCAC_1   |California - Coastal Region Onshore Crude Oil New Reservoir Discoveries in Old Fields (Million Barrels)   |MMBBL|NULL |5      |7         |1         |68     |\n",
            "|NA       |RTX08A |2017  |R08    |Reserves New Field Discoveries                  |EPC0   |Crude Oil   |RCRR08RTX08A_1 |Texas - RRC District 8A Crude Oil Reserves New Field Discoveries (Million Barrels)                        |MMBBL|NULL |45     |8         |1         |68     |\n",
            "+---------+-------+------+-------+------------------------------------------------+-------+------------+---------------+----------------------------------------------------------------------------------------------------------+-----+-----+-------+----------+----------+-------+\n",
            "only showing top 20 rows\n",
            "\n"
          ]
        }
      ]
    },
    {
      "cell_type": "markdown",
      "source": [
        "Añadir variables adicionales"
      ],
      "metadata": {
        "id": "x8WSMLHrThpB"
      }
    },
    {
      "cell_type": "code",
      "source": [
        "df_joined = df_joined.withColumn(\"ID\", monotonically_increasing_id())\n",
        "\n",
        "df_joined.show(truncate=False)\n"
      ],
      "metadata": {
        "colab": {
          "base_uri": "https://localhost:8080/"
        },
        "id": "H---jrRWg6Wt",
        "outputId": "a39b0a23-509b-4559-bc8a-46457e73549b"
      },
      "execution_count": 8,
      "outputs": [
        {
          "output_type": "stream",
          "name": "stdout",
          "text": [
            "+---------+-------+------+-------+------------------------------------------------+-------+------------+---------------+----------------------------------------------------------------------------------------------------------+-----+-----+-------+----------+----------+-------+---+\n",
            "|area-name|duoarea|period|process|process-name                                    |product|product-name|series         |series-description                                                                                        |units|value|AREA_ID|PROCESS_ID|PRODUCT_ID|TIME_ID|ID |\n",
            "+---------+-------+------+-------+------------------------------------------------+-------+------------+---------------+----------------------------------------------------------------------------------------------------------+-----+-----+-------+----------+----------+-------+---+\n",
            "|NA       |RCASF  |2017  |R01    |Proved Reserves                                 |EPC0   |Crude Oil   |RCRR01RCASF_1  |California State Offshore Crude Oil Proved Reserves (Million Barrels)                                     |MMBBL|147  |9      |10        |1         |68     |0  |\n",
            "|USA-MI   |SMI    |2017  |R01    |Proved Reserves                                 |EPC0   |Crude Oil   |RCRR01SMI_1    |Michigan Crude Oil Proved Reserves (Million Barrels)                                                      |MMBBL|54   |23     |10        |1         |68     |1  |\n",
            "|NA       |R5F    |2017  |R01    |Proved Reserves                                 |EPC0   |Crude Oil   |RCRR01R5F_1    |California Federal Offshore Crude Oil Proved Reserves (Million Barrels)                                   |MMBBL|81   |8      |10        |1         |68     |2  |\n",
            "|USA-ND   |SND    |2017  |R01    |Proved Reserves                                 |EPC0   |Crude Oil   |RCRR01SND_1    |North Dakota Crude Oil Proved Reserves (Million Barrels)                                                  |MMBBL|5473 |30     |10        |1         |68     |3  |\n",
            "|USA-KY   |SKY    |2017  |R01    |Proved Reserves                                 |EPC0   |Crude Oil   |RCRR01SKY_1    |Kentucky Crude Oil Proved Reserves (Million Barrels)                                                      |MMBBL|8    |17     |10        |1         |68     |4  |\n",
            "|NA       |RNMWEST|2017  |R10    |Production from Reserves                        |EPC0   |Crude Oil   |RCRR10RNMWEST_1|New Mexico - West Crude Oil Estimated Production from Reserves (Million Barrels)                          |MMBBL|6    |29     |9         |1         |68     |5  |\n",
            "|NA       |RNMEAST|2017  |R10    |Production from Reserves                        |EPC0   |Crude Oil   |RCRR10RNMEAST_1|New Mexico - East Crude Oil Estimated Production from Reserves (Million Barrels)                          |MMBBL|154  |28     |9         |1         |68     |6  |\n",
            "|USA-MS   |SMS    |2017  |R10    |Production from Reserves                        |EPC0   |Crude Oil   |RCRR10SMS_1    |Mississippi Crude Oil Estimated Production from Reserves (Million Barrels)                                |MMBBL|17   |24     |9         |1         |68     |7  |\n",
            "|USA-LA   |SLA    |2017  |R10    |Production from Reserves                        |EPC0   |Crude Oil   |RCRR10SLA_1    |Louisiana Crude Oil Estimated Production from Reserves (Million Barrels)                                  |MMBBL|43   |18     |9         |1         |68     |8  |\n",
            "|COLORADO |SCO    |2017  |R10    |Production from Reserves                        |EPC0   |Crude Oil   |RCRR10SCO_1    |Colorado Crude Oil Estimated Production from Reserves (Million Barrels)                                   |MMBBL|126  |10     |9         |1         |68     |9  |\n",
            "|NA       |RLAN   |2017  |R10    |Production from Reserves                        |EPC0   |Crude Oil   |RCRR10RLAN_1   |Louisiana - North Crude Oil Estimated Production from Reserves (Million Barrels)                          |MMBBL|10   |19     |9         |1         |68     |10 |\n",
            "|NA       |R5F    |2017  |R10    |Production from Reserves                        |EPC0   |Crude Oil   |RCRR10R5F_1    |California Federal Offshore Crude Oil Estimated Production from Reserves (Million Barrels)                |MMBBL|6    |8      |9         |1         |68     |11 |\n",
            "|U.S.     |NUS    |2017  |R09    |Reserves New Reservoir Discoveries in Old Fields|EPC0   |Crude Oil   |RCRR09NUS_1    |U.S. Crude Oil New Reservoir Discoveries in Old Fields (Million Barrels)                                  |MMBBL|NULL |48     |7         |1         |68     |12 |\n",
            "|NA       |RCAJ   |2017  |R09    |Reserves New Reservoir Discoveries in Old Fields|EPC0   |Crude Oil   |RCRR09RCAJ_1   |California - San Joaquin Basin Onshore Crude Oil New Reservoir Discoveries in Old Fields (Million Barrels)|MMBBL|NULL |7      |7         |1         |68     |13 |\n",
            "|USA-AL   |SAL    |2017  |R09    |Reserves New Reservoir Discoveries in Old Fields|EPC0   |Crude Oil   |RCRR09SAL_1    |Alabama Crude Oil New Reservoir Discoveries in Old Fields (Million Barrels)                               |MMBBL|NULL |1      |7         |1         |68     |14 |\n",
            "|USA-ND   |SND    |2017  |R09    |Reserves New Reservoir Discoveries in Old Fields|EPC0   |Crude Oil   |RCRR09SND_1    |North Dakota Crude Oil New Reservoir Discoveries in Old Fields (Million Barrels)                          |MMBBL|NULL |30     |7         |1         |68     |15 |\n",
            "|USA-PA   |SPA    |2017  |R09    |Reserves New Reservoir Discoveries in Old Fields|EPC0   |Crude Oil   |RCRR09SPA_1    |Pennsylvania Crude Oil New Reservoir Discoveries in Old Fields (Million Barrels)                          |MMBBL|NULL |33     |7         |1         |68     |16 |\n",
            "|NA       |RTX05  |2017  |R09    |Reserves New Reservoir Discoveries in Old Fields|EPC0   |Crude Oil   |RCRR09RTX05_1  |Texas - RRC District 5 Crude Oil New Reservoir Discoveries in Old Fields (Million Barrels)                |MMBBL|NULL |40     |7         |1         |68     |17 |\n",
            "|NA       |RCAC   |2017  |R09    |Reserves New Reservoir Discoveries in Old Fields|EPC0   |Crude Oil   |RCRR09RCAC_1   |California - Coastal Region Onshore Crude Oil New Reservoir Discoveries in Old Fields (Million Barrels)   |MMBBL|NULL |5      |7         |1         |68     |18 |\n",
            "|NA       |RTX08A |2017  |R08    |Reserves New Field Discoveries                  |EPC0   |Crude Oil   |RCRR08RTX08A_1 |Texas - RRC District 8A Crude Oil Reserves New Field Discoveries (Million Barrels)                        |MMBBL|NULL |45     |8         |1         |68     |19 |\n",
            "+---------+-------+------+-------+------------------------------------------------+-------+------------+---------------+----------------------------------------------------------------------------------------------------------+-----+-----+-------+----------+----------+-------+---+\n",
            "only showing top 20 rows\n",
            "\n"
          ]
        }
      ]
    },
    {
      "cell_type": "markdown",
      "source": [
        "tomar solo las columnas nencesarias"
      ],
      "metadata": {
        "id": "njMxCOX_TnwZ"
      }
    },
    {
      "cell_type": "code",
      "source": [
        "df_fact = df_joined.select(['ID',\n",
        "                  'AREA_ID',\n",
        "                  'PROCESS_ID',\n",
        "                  'PRODUCT_ID',\n",
        "                  'TIME_ID',\n",
        "                  col('units').alias('UNITS'),\n",
        "                  col('value').alias('VALUE')])"
      ],
      "metadata": {
        "id": "-XmYthhwhF40"
      },
      "execution_count": 9,
      "outputs": []
    },
    {
      "cell_type": "markdown",
      "source": [
        "Complementar valores nulos"
      ],
      "metadata": {
        "id": "zmTkVbbETrml"
      }
    },
    {
      "cell_type": "code",
      "source": [
        "df_fact = df_fact.fillna(0, subset=['AREA_ID', 'PROCESS_ID', 'PRODUCT_ID', 'TIME_ID', 'VALUE'])"
      ],
      "metadata": {
        "id": "_aIggxzUiWSr"
      },
      "execution_count": 10,
      "outputs": []
    },
    {
      "cell_type": "markdown",
      "source": [
        "Exportar archivo final"
      ],
      "metadata": {
        "id": "r2_0kDeITyMe"
      }
    },
    {
      "cell_type": "code",
      "source": [
        "export_path = os.path.join(config.FOLDER_DWH, config.FILE_FACT)\n",
        "\n",
        "try:\n",
        "    # Validar que el DataFrame no esté vacío antes de guardar\n",
        "    if not df.rdd.isEmpty():\n",
        "        df.write.mode('overwrite').option(\"header\", \"true\").csv(export_path)\n",
        "        print(f\"✅ Archivo guardado exitosamente en: {export_path}\")\n",
        "    else:\n",
        "        print(\"⚠️ El DataFrame está vacío. No se generó el archivo.\")\n",
        "except Exception as e:\n",
        "    print(f\"❌ Error al guardar el archivo: {e}\")\n"
      ],
      "metadata": {
        "colab": {
          "base_uri": "https://localhost:8080/"
        },
        "id": "37kC6235i-38",
        "outputId": "12c78d24-4434-4e75-be73-8278a911774d"
      },
      "execution_count": 11,
      "outputs": [
        {
          "output_type": "stream",
          "name": "stdout",
          "text": [
            "✅ Archivo guardado exitosamente en: DWH/fact_crude_reserves_prod.csv\n"
          ]
        }
      ]
    },
    {
      "cell_type": "markdown",
      "source": [
        "Cerrar sesión"
      ],
      "metadata": {
        "id": "flaLTgo4T0zR"
      }
    },
    {
      "cell_type": "code",
      "source": [
        "spark.stop()"
      ],
      "metadata": {
        "id": "BmbkejG-SOSo"
      },
      "execution_count": 12,
      "outputs": []
    }
  ]
}